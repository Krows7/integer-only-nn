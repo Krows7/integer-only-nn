{
 "cells": [
  {
   "cell_type": "code",
   "execution_count": 2,
   "id": "7b22758e",
   "metadata": {},
   "outputs": [],
   "source": [
    "import re\n",
    "\n",
    "def parse_accuracies(log_file):\n",
    "    \"\"\"\n",
    "    Извлекает списки тестовой и тренировочной точности из текста логов.\n",
    "\n",
    "    Параметры:\n",
    "        log_text (str): Текст логов, содержащий строки вида\n",
    "                        \"Accuracy on test set: XX.XX% (...)\"\n",
    "                        и \"Accuracy on train set: YY.YY% (...)\".\n",
    "\n",
    "    Возвращает:\n",
    "        Tuple[List[float], List[float]]: два списка — тестовых и тренировочных точностей.\n",
    "    \"\"\"\n",
    "    with open(log_file + \".txt\", \"r\", encoding=\"utf-8\") as f:\n",
    "        log_text = f.read()\n",
    "\n",
    "    test_pattern = r\"Accuracy on test set:\\s*([\\d\\.]+)%\"\n",
    "    train_pattern = r\"Accuracy on train set:\\s*([\\d\\.]+)%\"\n",
    "\n",
    "    test_accs = [float(value) for value in re.findall(test_pattern, log_text)]\n",
    "    train_accs = [float(value) for value in re.findall(train_pattern, log_text)]\n",
    "\n",
    "    return log_file, test_accs, train_accs\n"
   ]
  },
  {
   "cell_type": "code",
   "execution_count": 2,
   "id": "2142ead9",
   "metadata": {},
   "outputs": [],
   "source": [
    "import plotly.graph_objects as go\n",
    "from os import walk\n",
    "import matplotlib.pyplot as plt\n",
    "\n",
    "def show_graph(path, interactive=True):\n",
    "    filenames = next(walk(path), (None, None, []))[2]\n",
    "    print(path)\n",
    "    print(filenames)\n",
    "    filenames = [file.split(\".\")[0] for file in filenames if file.split(\".\")[1] == \"txt\"]\n",
    "\n",
    "    # Эпохи\n",
    "    epochs = list(range(1, 11))\n",
    "\n",
    "    data = []\n",
    "\n",
    "    for file in filenames:\n",
    "        if file.startswith('bench'):\n",
    "            data.append(parse_accuracies(path + \"/\" + file))\n",
    "\n",
    "    if interactive:\n",
    "        # create figure\n",
    "        fig = go.Figure()\n",
    "\n",
    "        for d in data:\n",
    "            fig.add_trace(go.Scatter(\n",
    "                x=epochs, y=d[1],\n",
    "                mode='lines',\n",
    "                name=f\"{d[0]}, тест\"\n",
    "            ))\n",
    "            # to also plot training curves, uncomment:\n",
    "            # fig.add_trace(go.Scatter(\n",
    "            #     x=epochs, y=d[2],\n",
    "            #     mode='lines',\n",
    "            #     line=dict(dash='dash'),\n",
    "            #     name=f\"{d[0]}, тренировка\"\n",
    "            # ))\n",
    "\n",
    "        # layout\n",
    "        fig.update_layout(\n",
    "            title=\"Сравнение точности моделей с разными RNG\",\n",
    "            xaxis_title=\"Эпоха\",\n",
    "            yaxis_title=\"Точность (%)\",\n",
    "            # legend=dict(orientation=\"v\", x=0, y=1),\n",
    "            template=\"plotly_white\"\n",
    "        )\n",
    "\n",
    "        fig.show()\n",
    "    else:\n",
    "        plt.figure(figsize=(10, 6))\n",
    "\n",
    "        for d in data:\n",
    "            plt.plot(epochs, d[1], label=d[0] + ', тест')\n",
    "            # plt.plot(epochs, d[2], linestyle='--', label=d[0] + ', тренировка')\n",
    "\n",
    "        plt.xlabel('Эпоха')\n",
    "        plt.ylabel('Точность (%)')\n",
    "        plt.title('Сравнение точности моделей с разными RNG')\n",
    "        plt.legend(loc='upper left', fontsize='small')\n",
    "        plt.grid(True)\n",
    "        plt.tight_layout()\n",
    "        plt.show()\n"
   ]
  },
  {
   "cell_type": "code",
   "execution_count": 3,
   "id": "46be9cf8",
   "metadata": {},
   "outputs": [],
   "source": [
    "# import matplotlib.pyplot as plt\n",
    "# from os import walk\n",
    "\n",
    "# filenames = next(walk(\".\"), (None, None, []))[2]\n",
    "# print(filenames)\n",
    "# filenames = [file.split(\".\")[0] for file in filenames if file.split(\".\")[1] == \"txt\"]\n",
    "\n",
    "# # Эпохи\n",
    "# epochs = list(range(1, 11))\n",
    "\n",
    "# data = []\n",
    "\n",
    "# for file in filenames:\n",
    "#     if file.startswith('bench'): data.append(parse_accuracies(file))\n",
    "\n",
    "# # Данные моделей\n",
    "# # data.append(parse_accuracies(\"improved-rng-dyn-seed\"))\n",
    "# # data.append(parse_accuracies(\"xorshift32-improved-no-seed\"))\n",
    "\n",
    "# glibc_test = [91.71, 92.77, 93.38, 93.60, 93.88, 94.71, 94.32, 93.16, 93.71, 94.99]\n",
    "# glibc_train = [93.64, 94.85, 95.34, 95.74, 96.15, 97.12, 96.78, 95.97, 96.47, 97.31]\n",
    "\n",
    "# x16_test = [90.65, 92.99, 91.99, 92.71, 94.05, 92.82, 94.71, 94.66, 94.60, 93.77]\n",
    "# x16_train = [93.33, 95.06, 94.32, 95.32, 96.36, 95.58, 96.94, 97.12, 97.07, 96.57]\n",
    "\n",
    "# x32_test = [92.15, 93.32, 92.77, 93.60, 91.82, 93.32, 93.38, 94.55, 92.10, 93.27]\n",
    "# x32_train = [93.96, 94.82, 95.32, 95.95, 94.35, 96.00, 95.84, 97.25, 94.64, 95.79]\n",
    "\n",
    "# low_test = [91.65, 92.38, 93.54, 92.43, 94.05, 94.10, 91.93, 93.16, 93.43, 94.44]\n",
    "# low_train = [93.41, 94.69, 95.34, 95.37, 96.49, 96.83, 94.56, 95.92, 96.10, 97.10]\n",
    "\n",
    "# plt.figure(figsize=(10, 6))\n",
    "\n",
    "# for d in data:\n",
    "#     # if (d[0] != \"bench-xorshift-rs-temp\" and d[0] != \"bench-xorshift-rs\"):\n",
    "#     plt.plot(epochs, d[1], label=d[0] + ', тест')\n",
    "#     # plt.plot(epochs, d[2], linestyle='--', label=d[0] + ', тренировка')\n",
    "\n",
    "# # plt.plot(epochs, glibc_test, label='glibc, тест', marker='o')\n",
    "# # plt.plot(epochs, glibc_train, linestyle='--', label='glibc, тренировка', marker='o')\n",
    "\n",
    "# # plt.plot(epochs, x16_test, label='xorshift16, тест', marker='^')\n",
    "# # plt.plot(epochs, x16_train, linestyle='--', label='xorshift16, тренировка', marker='^')\n",
    "\n",
    "# # plt.plot(epochs, x32_test, label='xorshift32, тест', marker='s')\n",
    "# # plt.plot(epochs, x32_train, linestyle='--', label='xorshift32, тренировка', marker='s')\n",
    "\n",
    "# # plt.plot(epochs, low_test, label='xorshift32-lowbytes, тест', marker='d')\n",
    "# # plt.plot(epochs, low_train, linestyle='--', label='xorshift32-lowbytes, тренировка', marker='d')\n",
    "\n",
    "# plt.xlabel('Эпоха')\n",
    "# plt.ylabel('Точность (%)')\n",
    "# plt.title('Сравнение точности моделей с разными RNG')\n",
    "# plt.legend(loc='upper left', fontsize='small')\n",
    "# plt.grid(True)\n",
    "# plt.tight_layout()\n",
    "# plt.show()"
   ]
  },
  {
   "cell_type": "code",
   "execution_count": 4,
   "id": "e2c7b1fa",
   "metadata": {},
   "outputs": [
    {
     "name": "stdout",
     "output_type": "stream",
     "text": [
      "ext/digits\n",
      "['bench-xorshift-modulo-temp.txt', 'bench-xorshift-modulo-temp-no-mul.txt', 'bench-xorshift-modulo.txt', 'bench-xorshift-low-bits.txt', 'bench-xorshift-glibc.txt', 'bench-xorshift-low-bits-no-mul.txt']\n"
     ]
    },
    {
     "data": {
      "application/vnd.plotly.v1+json": {
       "config": {
        "plotlyServerURL": "https://plot.ly"
       },
       "data": [
        {
         "mode": "lines",
         "name": "ext/digits/bench-xorshift-modulo-temp, тест",
         "type": "scatter",
         "x": [
          1,
          2,
          3,
          4,
          5,
          6,
          7,
          8,
          9,
          10
         ],
         "y": [
          88.81,
          85.87,
          91.99,
          84.03,
          92.32,
          93.16,
          91.26,
          93.88,
          94.71,
          94.1
         ]
        },
        {
         "mode": "lines",
         "name": "ext/digits/bench-xorshift-modulo-temp-no-mul, тест",
         "type": "scatter",
         "x": [
          1,
          2,
          3,
          4,
          5,
          6,
          7,
          8,
          9,
          10
         ],
         "y": [
          87.92,
          83.42,
          93.32,
          88.65,
          94.21,
          90.26,
          90.87,
          93.99,
          93.16,
          90.54
         ]
        },
        {
         "mode": "lines",
         "name": "ext/digits/bench-xorshift-modulo, тест",
         "type": "scatter",
         "x": [
          1,
          2,
          3,
          4,
          5,
          6,
          7,
          8,
          9,
          10
         ],
         "y": [
          85.59,
          89.76,
          92.65,
          93.99,
          91.76,
          89.09,
          90.43,
          91.71,
          91.93,
          91.15
         ]
        },
        {
         "mode": "lines",
         "name": "ext/digits/bench-xorshift-low-bits, тест",
         "type": "scatter",
         "x": [
          1,
          2,
          3,
          4,
          5,
          6,
          7,
          8,
          9,
          10
         ],
         "y": [
          83.03,
          87.87,
          87.76,
          89.93,
          93.49,
          85.92,
          94.44,
          94.49,
          92.32,
          95.38
         ]
        },
        {
         "mode": "lines",
         "name": "ext/digits/bench-xorshift-glibc, тест",
         "type": "scatter",
         "x": [
          1,
          2,
          3,
          4,
          5,
          6,
          7,
          8,
          9,
          10
         ],
         "y": [
          91.71,
          92.77,
          93.38,
          93.6,
          93.88,
          94.71,
          94.32,
          93.16,
          93.71,
          94.99
         ]
        },
        {
         "mode": "lines",
         "name": "ext/digits/bench-xorshift-low-bits-no-mul, тест",
         "type": "scatter",
         "x": [
          1,
          2,
          3,
          4,
          5,
          6,
          7,
          8,
          9,
          10
         ],
         "y": [
          74.9,
          88.26,
          94.16,
          88.65,
          92.65,
          93.77,
          91.1,
          93.1,
          89.93,
          94.71
         ]
        }
       ],
       "layout": {
        "template": {
         "data": {
          "bar": [
           {
            "error_x": {
             "color": "#2a3f5f"
            },
            "error_y": {
             "color": "#2a3f5f"
            },
            "marker": {
             "line": {
              "color": "white",
              "width": 0.5
             },
             "pattern": {
              "fillmode": "overlay",
              "size": 10,
              "solidity": 0.2
             }
            },
            "type": "bar"
           }
          ],
          "barpolar": [
           {
            "marker": {
             "line": {
              "color": "white",
              "width": 0.5
             },
             "pattern": {
              "fillmode": "overlay",
              "size": 10,
              "solidity": 0.2
             }
            },
            "type": "barpolar"
           }
          ],
          "carpet": [
           {
            "aaxis": {
             "endlinecolor": "#2a3f5f",
             "gridcolor": "#C8D4E3",
             "linecolor": "#C8D4E3",
             "minorgridcolor": "#C8D4E3",
             "startlinecolor": "#2a3f5f"
            },
            "baxis": {
             "endlinecolor": "#2a3f5f",
             "gridcolor": "#C8D4E3",
             "linecolor": "#C8D4E3",
             "minorgridcolor": "#C8D4E3",
             "startlinecolor": "#2a3f5f"
            },
            "type": "carpet"
           }
          ],
          "choropleth": [
           {
            "colorbar": {
             "outlinewidth": 0,
             "ticks": ""
            },
            "type": "choropleth"
           }
          ],
          "contour": [
           {
            "colorbar": {
             "outlinewidth": 0,
             "ticks": ""
            },
            "colorscale": [
             [
              0,
              "#0d0887"
             ],
             [
              0.1111111111111111,
              "#46039f"
             ],
             [
              0.2222222222222222,
              "#7201a8"
             ],
             [
              0.3333333333333333,
              "#9c179e"
             ],
             [
              0.4444444444444444,
              "#bd3786"
             ],
             [
              0.5555555555555556,
              "#d8576b"
             ],
             [
              0.6666666666666666,
              "#ed7953"
             ],
             [
              0.7777777777777778,
              "#fb9f3a"
             ],
             [
              0.8888888888888888,
              "#fdca26"
             ],
             [
              1,
              "#f0f921"
             ]
            ],
            "type": "contour"
           }
          ],
          "contourcarpet": [
           {
            "colorbar": {
             "outlinewidth": 0,
             "ticks": ""
            },
            "type": "contourcarpet"
           }
          ],
          "heatmap": [
           {
            "colorbar": {
             "outlinewidth": 0,
             "ticks": ""
            },
            "colorscale": [
             [
              0,
              "#0d0887"
             ],
             [
              0.1111111111111111,
              "#46039f"
             ],
             [
              0.2222222222222222,
              "#7201a8"
             ],
             [
              0.3333333333333333,
              "#9c179e"
             ],
             [
              0.4444444444444444,
              "#bd3786"
             ],
             [
              0.5555555555555556,
              "#d8576b"
             ],
             [
              0.6666666666666666,
              "#ed7953"
             ],
             [
              0.7777777777777778,
              "#fb9f3a"
             ],
             [
              0.8888888888888888,
              "#fdca26"
             ],
             [
              1,
              "#f0f921"
             ]
            ],
            "type": "heatmap"
           }
          ],
          "histogram": [
           {
            "marker": {
             "pattern": {
              "fillmode": "overlay",
              "size": 10,
              "solidity": 0.2
             }
            },
            "type": "histogram"
           }
          ],
          "histogram2d": [
           {
            "colorbar": {
             "outlinewidth": 0,
             "ticks": ""
            },
            "colorscale": [
             [
              0,
              "#0d0887"
             ],
             [
              0.1111111111111111,
              "#46039f"
             ],
             [
              0.2222222222222222,
              "#7201a8"
             ],
             [
              0.3333333333333333,
              "#9c179e"
             ],
             [
              0.4444444444444444,
              "#bd3786"
             ],
             [
              0.5555555555555556,
              "#d8576b"
             ],
             [
              0.6666666666666666,
              "#ed7953"
             ],
             [
              0.7777777777777778,
              "#fb9f3a"
             ],
             [
              0.8888888888888888,
              "#fdca26"
             ],
             [
              1,
              "#f0f921"
             ]
            ],
            "type": "histogram2d"
           }
          ],
          "histogram2dcontour": [
           {
            "colorbar": {
             "outlinewidth": 0,
             "ticks": ""
            },
            "colorscale": [
             [
              0,
              "#0d0887"
             ],
             [
              0.1111111111111111,
              "#46039f"
             ],
             [
              0.2222222222222222,
              "#7201a8"
             ],
             [
              0.3333333333333333,
              "#9c179e"
             ],
             [
              0.4444444444444444,
              "#bd3786"
             ],
             [
              0.5555555555555556,
              "#d8576b"
             ],
             [
              0.6666666666666666,
              "#ed7953"
             ],
             [
              0.7777777777777778,
              "#fb9f3a"
             ],
             [
              0.8888888888888888,
              "#fdca26"
             ],
             [
              1,
              "#f0f921"
             ]
            ],
            "type": "histogram2dcontour"
           }
          ],
          "mesh3d": [
           {
            "colorbar": {
             "outlinewidth": 0,
             "ticks": ""
            },
            "type": "mesh3d"
           }
          ],
          "parcoords": [
           {
            "line": {
             "colorbar": {
              "outlinewidth": 0,
              "ticks": ""
             }
            },
            "type": "parcoords"
           }
          ],
          "pie": [
           {
            "automargin": true,
            "type": "pie"
           }
          ],
          "scatter": [
           {
            "fillpattern": {
             "fillmode": "overlay",
             "size": 10,
             "solidity": 0.2
            },
            "type": "scatter"
           }
          ],
          "scatter3d": [
           {
            "line": {
             "colorbar": {
              "outlinewidth": 0,
              "ticks": ""
             }
            },
            "marker": {
             "colorbar": {
              "outlinewidth": 0,
              "ticks": ""
             }
            },
            "type": "scatter3d"
           }
          ],
          "scattercarpet": [
           {
            "marker": {
             "colorbar": {
              "outlinewidth": 0,
              "ticks": ""
             }
            },
            "type": "scattercarpet"
           }
          ],
          "scattergeo": [
           {
            "marker": {
             "colorbar": {
              "outlinewidth": 0,
              "ticks": ""
             }
            },
            "type": "scattergeo"
           }
          ],
          "scattergl": [
           {
            "marker": {
             "colorbar": {
              "outlinewidth": 0,
              "ticks": ""
             }
            },
            "type": "scattergl"
           }
          ],
          "scattermap": [
           {
            "marker": {
             "colorbar": {
              "outlinewidth": 0,
              "ticks": ""
             }
            },
            "type": "scattermap"
           }
          ],
          "scattermapbox": [
           {
            "marker": {
             "colorbar": {
              "outlinewidth": 0,
              "ticks": ""
             }
            },
            "type": "scattermapbox"
           }
          ],
          "scatterpolar": [
           {
            "marker": {
             "colorbar": {
              "outlinewidth": 0,
              "ticks": ""
             }
            },
            "type": "scatterpolar"
           }
          ],
          "scatterpolargl": [
           {
            "marker": {
             "colorbar": {
              "outlinewidth": 0,
              "ticks": ""
             }
            },
            "type": "scatterpolargl"
           }
          ],
          "scatterternary": [
           {
            "marker": {
             "colorbar": {
              "outlinewidth": 0,
              "ticks": ""
             }
            },
            "type": "scatterternary"
           }
          ],
          "surface": [
           {
            "colorbar": {
             "outlinewidth": 0,
             "ticks": ""
            },
            "colorscale": [
             [
              0,
              "#0d0887"
             ],
             [
              0.1111111111111111,
              "#46039f"
             ],
             [
              0.2222222222222222,
              "#7201a8"
             ],
             [
              0.3333333333333333,
              "#9c179e"
             ],
             [
              0.4444444444444444,
              "#bd3786"
             ],
             [
              0.5555555555555556,
              "#d8576b"
             ],
             [
              0.6666666666666666,
              "#ed7953"
             ],
             [
              0.7777777777777778,
              "#fb9f3a"
             ],
             [
              0.8888888888888888,
              "#fdca26"
             ],
             [
              1,
              "#f0f921"
             ]
            ],
            "type": "surface"
           }
          ],
          "table": [
           {
            "cells": {
             "fill": {
              "color": "#EBF0F8"
             },
             "line": {
              "color": "white"
             }
            },
            "header": {
             "fill": {
              "color": "#C8D4E3"
             },
             "line": {
              "color": "white"
             }
            },
            "type": "table"
           }
          ]
         },
         "layout": {
          "annotationdefaults": {
           "arrowcolor": "#2a3f5f",
           "arrowhead": 0,
           "arrowwidth": 1
          },
          "autotypenumbers": "strict",
          "coloraxis": {
           "colorbar": {
            "outlinewidth": 0,
            "ticks": ""
           }
          },
          "colorscale": {
           "diverging": [
            [
             0,
             "#8e0152"
            ],
            [
             0.1,
             "#c51b7d"
            ],
            [
             0.2,
             "#de77ae"
            ],
            [
             0.3,
             "#f1b6da"
            ],
            [
             0.4,
             "#fde0ef"
            ],
            [
             0.5,
             "#f7f7f7"
            ],
            [
             0.6,
             "#e6f5d0"
            ],
            [
             0.7,
             "#b8e186"
            ],
            [
             0.8,
             "#7fbc41"
            ],
            [
             0.9,
             "#4d9221"
            ],
            [
             1,
             "#276419"
            ]
           ],
           "sequential": [
            [
             0,
             "#0d0887"
            ],
            [
             0.1111111111111111,
             "#46039f"
            ],
            [
             0.2222222222222222,
             "#7201a8"
            ],
            [
             0.3333333333333333,
             "#9c179e"
            ],
            [
             0.4444444444444444,
             "#bd3786"
            ],
            [
             0.5555555555555556,
             "#d8576b"
            ],
            [
             0.6666666666666666,
             "#ed7953"
            ],
            [
             0.7777777777777778,
             "#fb9f3a"
            ],
            [
             0.8888888888888888,
             "#fdca26"
            ],
            [
             1,
             "#f0f921"
            ]
           ],
           "sequentialminus": [
            [
             0,
             "#0d0887"
            ],
            [
             0.1111111111111111,
             "#46039f"
            ],
            [
             0.2222222222222222,
             "#7201a8"
            ],
            [
             0.3333333333333333,
             "#9c179e"
            ],
            [
             0.4444444444444444,
             "#bd3786"
            ],
            [
             0.5555555555555556,
             "#d8576b"
            ],
            [
             0.6666666666666666,
             "#ed7953"
            ],
            [
             0.7777777777777778,
             "#fb9f3a"
            ],
            [
             0.8888888888888888,
             "#fdca26"
            ],
            [
             1,
             "#f0f921"
            ]
           ]
          },
          "colorway": [
           "#636efa",
           "#EF553B",
           "#00cc96",
           "#ab63fa",
           "#FFA15A",
           "#19d3f3",
           "#FF6692",
           "#B6E880",
           "#FF97FF",
           "#FECB52"
          ],
          "font": {
           "color": "#2a3f5f"
          },
          "geo": {
           "bgcolor": "white",
           "lakecolor": "white",
           "landcolor": "white",
           "showlakes": true,
           "showland": true,
           "subunitcolor": "#C8D4E3"
          },
          "hoverlabel": {
           "align": "left"
          },
          "hovermode": "closest",
          "mapbox": {
           "style": "light"
          },
          "paper_bgcolor": "white",
          "plot_bgcolor": "white",
          "polar": {
           "angularaxis": {
            "gridcolor": "#EBF0F8",
            "linecolor": "#EBF0F8",
            "ticks": ""
           },
           "bgcolor": "white",
           "radialaxis": {
            "gridcolor": "#EBF0F8",
            "linecolor": "#EBF0F8",
            "ticks": ""
           }
          },
          "scene": {
           "xaxis": {
            "backgroundcolor": "white",
            "gridcolor": "#DFE8F3",
            "gridwidth": 2,
            "linecolor": "#EBF0F8",
            "showbackground": true,
            "ticks": "",
            "zerolinecolor": "#EBF0F8"
           },
           "yaxis": {
            "backgroundcolor": "white",
            "gridcolor": "#DFE8F3",
            "gridwidth": 2,
            "linecolor": "#EBF0F8",
            "showbackground": true,
            "ticks": "",
            "zerolinecolor": "#EBF0F8"
           },
           "zaxis": {
            "backgroundcolor": "white",
            "gridcolor": "#DFE8F3",
            "gridwidth": 2,
            "linecolor": "#EBF0F8",
            "showbackground": true,
            "ticks": "",
            "zerolinecolor": "#EBF0F8"
           }
          },
          "shapedefaults": {
           "line": {
            "color": "#2a3f5f"
           }
          },
          "ternary": {
           "aaxis": {
            "gridcolor": "#DFE8F3",
            "linecolor": "#A2B1C6",
            "ticks": ""
           },
           "baxis": {
            "gridcolor": "#DFE8F3",
            "linecolor": "#A2B1C6",
            "ticks": ""
           },
           "bgcolor": "white",
           "caxis": {
            "gridcolor": "#DFE8F3",
            "linecolor": "#A2B1C6",
            "ticks": ""
           }
          },
          "title": {
           "x": 0.05
          },
          "xaxis": {
           "automargin": true,
           "gridcolor": "#EBF0F8",
           "linecolor": "#EBF0F8",
           "ticks": "",
           "title": {
            "standoff": 15
           },
           "zerolinecolor": "#EBF0F8",
           "zerolinewidth": 2
          },
          "yaxis": {
           "automargin": true,
           "gridcolor": "#EBF0F8",
           "linecolor": "#EBF0F8",
           "ticks": "",
           "title": {
            "standoff": 15
           },
           "zerolinecolor": "#EBF0F8",
           "zerolinewidth": 2
          }
         }
        },
        "title": {
         "text": "Сравнение точности моделей с разными RNG"
        },
        "xaxis": {
         "title": {
          "text": "Эпоха"
         }
        },
        "yaxis": {
         "title": {
          "text": "Точность (%)"
         }
        }
       }
      }
     },
     "metadata": {},
     "output_type": "display_data"
    }
   ],
   "source": [
    "show_graph(\"ext/digits\")"
   ]
  },
  {
   "cell_type": "code",
   "execution_count": 5,
   "id": "419cbc62",
   "metadata": {},
   "outputs": [
    {
     "name": "stdout",
     "output_type": "stream",
     "text": [
      "nes/iris-nes\n",
      "['bench-xorshift-modulo-temp.txt', 'bench-xorshift-modulo-temp-no-mul.txt', 'bench-xorshift-modulo.txt', 'bench-xorshift-low-bits.txt', 'bench-xorshift-glibc.txt', 'bench-xorshift-low-bits-no-mul.txt']\n"
     ]
    },
    {
     "data": {
      "application/vnd.plotly.v1+json": {
       "config": {
        "plotlyServerURL": "https://plot.ly"
       },
       "data": [
        {
         "mode": "lines",
         "name": "nes/iris-nes/bench-xorshift-modulo-temp, тест",
         "type": "scatter",
         "x": [
          1,
          2,
          3,
          4,
          5,
          6,
          7,
          8,
          9,
          10
         ],
         "y": [
          66.66,
          66.66,
          70,
          83.33,
          100,
          93.33,
          76.66,
          76.66,
          83.33,
          70
         ]
        },
        {
         "mode": "lines",
         "name": "nes/iris-nes/bench-xorshift-modulo-temp-no-mul, тест",
         "type": "scatter",
         "x": [
          1,
          2,
          3,
          4,
          5,
          6,
          7,
          8,
          9,
          10
         ],
         "y": [
          66.66,
          83.33,
          90,
          83.33,
          70,
          70,
          66.66,
          73.33,
          66.66,
          90
         ]
        },
        {
         "mode": "lines",
         "name": "nes/iris-nes/bench-xorshift-modulo, тест",
         "type": "scatter",
         "x": [
          1,
          2,
          3,
          4,
          5,
          6,
          7,
          8,
          9,
          10
         ],
         "y": [
          66.66,
          56.66,
          66.66,
          90,
          73.33,
          86.66,
          100,
          93.33,
          100,
          73.33
         ]
        },
        {
         "mode": "lines",
         "name": "nes/iris-nes/bench-xorshift-low-bits, тест",
         "type": "scatter",
         "x": [
          1,
          2,
          3,
          4,
          5,
          6,
          7,
          8,
          9,
          10
         ],
         "y": [
          63.33,
          83.33,
          56.66,
          83.33,
          70,
          90,
          90,
          100,
          96.66,
          90
         ]
        },
        {
         "mode": "lines",
         "name": "nes/iris-nes/bench-xorshift-glibc, тест",
         "type": "scatter",
         "x": [
          1,
          2,
          3,
          4,
          5,
          6,
          7,
          8,
          9,
          10
         ],
         "y": [
          66.66,
          66.66,
          66.66,
          100,
          96.66,
          96.66,
          76.66,
          73.33,
          90,
          90
         ]
        },
        {
         "mode": "lines",
         "name": "nes/iris-nes/bench-xorshift-low-bits-no-mul, тест",
         "type": "scatter",
         "x": [
          1,
          2,
          3,
          4,
          5,
          6,
          7,
          8,
          9,
          10
         ],
         "y": [
          16.66,
          66.66,
          66.66,
          90,
          100,
          66.66,
          93.33,
          86.66,
          83.33,
          93.33
         ]
        }
       ],
       "layout": {
        "template": {
         "data": {
          "bar": [
           {
            "error_x": {
             "color": "#2a3f5f"
            },
            "error_y": {
             "color": "#2a3f5f"
            },
            "marker": {
             "line": {
              "color": "white",
              "width": 0.5
             },
             "pattern": {
              "fillmode": "overlay",
              "size": 10,
              "solidity": 0.2
             }
            },
            "type": "bar"
           }
          ],
          "barpolar": [
           {
            "marker": {
             "line": {
              "color": "white",
              "width": 0.5
             },
             "pattern": {
              "fillmode": "overlay",
              "size": 10,
              "solidity": 0.2
             }
            },
            "type": "barpolar"
           }
          ],
          "carpet": [
           {
            "aaxis": {
             "endlinecolor": "#2a3f5f",
             "gridcolor": "#C8D4E3",
             "linecolor": "#C8D4E3",
             "minorgridcolor": "#C8D4E3",
             "startlinecolor": "#2a3f5f"
            },
            "baxis": {
             "endlinecolor": "#2a3f5f",
             "gridcolor": "#C8D4E3",
             "linecolor": "#C8D4E3",
             "minorgridcolor": "#C8D4E3",
             "startlinecolor": "#2a3f5f"
            },
            "type": "carpet"
           }
          ],
          "choropleth": [
           {
            "colorbar": {
             "outlinewidth": 0,
             "ticks": ""
            },
            "type": "choropleth"
           }
          ],
          "contour": [
           {
            "colorbar": {
             "outlinewidth": 0,
             "ticks": ""
            },
            "colorscale": [
             [
              0,
              "#0d0887"
             ],
             [
              0.1111111111111111,
              "#46039f"
             ],
             [
              0.2222222222222222,
              "#7201a8"
             ],
             [
              0.3333333333333333,
              "#9c179e"
             ],
             [
              0.4444444444444444,
              "#bd3786"
             ],
             [
              0.5555555555555556,
              "#d8576b"
             ],
             [
              0.6666666666666666,
              "#ed7953"
             ],
             [
              0.7777777777777778,
              "#fb9f3a"
             ],
             [
              0.8888888888888888,
              "#fdca26"
             ],
             [
              1,
              "#f0f921"
             ]
            ],
            "type": "contour"
           }
          ],
          "contourcarpet": [
           {
            "colorbar": {
             "outlinewidth": 0,
             "ticks": ""
            },
            "type": "contourcarpet"
           }
          ],
          "heatmap": [
           {
            "colorbar": {
             "outlinewidth": 0,
             "ticks": ""
            },
            "colorscale": [
             [
              0,
              "#0d0887"
             ],
             [
              0.1111111111111111,
              "#46039f"
             ],
             [
              0.2222222222222222,
              "#7201a8"
             ],
             [
              0.3333333333333333,
              "#9c179e"
             ],
             [
              0.4444444444444444,
              "#bd3786"
             ],
             [
              0.5555555555555556,
              "#d8576b"
             ],
             [
              0.6666666666666666,
              "#ed7953"
             ],
             [
              0.7777777777777778,
              "#fb9f3a"
             ],
             [
              0.8888888888888888,
              "#fdca26"
             ],
             [
              1,
              "#f0f921"
             ]
            ],
            "type": "heatmap"
           }
          ],
          "histogram": [
           {
            "marker": {
             "pattern": {
              "fillmode": "overlay",
              "size": 10,
              "solidity": 0.2
             }
            },
            "type": "histogram"
           }
          ],
          "histogram2d": [
           {
            "colorbar": {
             "outlinewidth": 0,
             "ticks": ""
            },
            "colorscale": [
             [
              0,
              "#0d0887"
             ],
             [
              0.1111111111111111,
              "#46039f"
             ],
             [
              0.2222222222222222,
              "#7201a8"
             ],
             [
              0.3333333333333333,
              "#9c179e"
             ],
             [
              0.4444444444444444,
              "#bd3786"
             ],
             [
              0.5555555555555556,
              "#d8576b"
             ],
             [
              0.6666666666666666,
              "#ed7953"
             ],
             [
              0.7777777777777778,
              "#fb9f3a"
             ],
             [
              0.8888888888888888,
              "#fdca26"
             ],
             [
              1,
              "#f0f921"
             ]
            ],
            "type": "histogram2d"
           }
          ],
          "histogram2dcontour": [
           {
            "colorbar": {
             "outlinewidth": 0,
             "ticks": ""
            },
            "colorscale": [
             [
              0,
              "#0d0887"
             ],
             [
              0.1111111111111111,
              "#46039f"
             ],
             [
              0.2222222222222222,
              "#7201a8"
             ],
             [
              0.3333333333333333,
              "#9c179e"
             ],
             [
              0.4444444444444444,
              "#bd3786"
             ],
             [
              0.5555555555555556,
              "#d8576b"
             ],
             [
              0.6666666666666666,
              "#ed7953"
             ],
             [
              0.7777777777777778,
              "#fb9f3a"
             ],
             [
              0.8888888888888888,
              "#fdca26"
             ],
             [
              1,
              "#f0f921"
             ]
            ],
            "type": "histogram2dcontour"
           }
          ],
          "mesh3d": [
           {
            "colorbar": {
             "outlinewidth": 0,
             "ticks": ""
            },
            "type": "mesh3d"
           }
          ],
          "parcoords": [
           {
            "line": {
             "colorbar": {
              "outlinewidth": 0,
              "ticks": ""
             }
            },
            "type": "parcoords"
           }
          ],
          "pie": [
           {
            "automargin": true,
            "type": "pie"
           }
          ],
          "scatter": [
           {
            "fillpattern": {
             "fillmode": "overlay",
             "size": 10,
             "solidity": 0.2
            },
            "type": "scatter"
           }
          ],
          "scatter3d": [
           {
            "line": {
             "colorbar": {
              "outlinewidth": 0,
              "ticks": ""
             }
            },
            "marker": {
             "colorbar": {
              "outlinewidth": 0,
              "ticks": ""
             }
            },
            "type": "scatter3d"
           }
          ],
          "scattercarpet": [
           {
            "marker": {
             "colorbar": {
              "outlinewidth": 0,
              "ticks": ""
             }
            },
            "type": "scattercarpet"
           }
          ],
          "scattergeo": [
           {
            "marker": {
             "colorbar": {
              "outlinewidth": 0,
              "ticks": ""
             }
            },
            "type": "scattergeo"
           }
          ],
          "scattergl": [
           {
            "marker": {
             "colorbar": {
              "outlinewidth": 0,
              "ticks": ""
             }
            },
            "type": "scattergl"
           }
          ],
          "scattermap": [
           {
            "marker": {
             "colorbar": {
              "outlinewidth": 0,
              "ticks": ""
             }
            },
            "type": "scattermap"
           }
          ],
          "scattermapbox": [
           {
            "marker": {
             "colorbar": {
              "outlinewidth": 0,
              "ticks": ""
             }
            },
            "type": "scattermapbox"
           }
          ],
          "scatterpolar": [
           {
            "marker": {
             "colorbar": {
              "outlinewidth": 0,
              "ticks": ""
             }
            },
            "type": "scatterpolar"
           }
          ],
          "scatterpolargl": [
           {
            "marker": {
             "colorbar": {
              "outlinewidth": 0,
              "ticks": ""
             }
            },
            "type": "scatterpolargl"
           }
          ],
          "scatterternary": [
           {
            "marker": {
             "colorbar": {
              "outlinewidth": 0,
              "ticks": ""
             }
            },
            "type": "scatterternary"
           }
          ],
          "surface": [
           {
            "colorbar": {
             "outlinewidth": 0,
             "ticks": ""
            },
            "colorscale": [
             [
              0,
              "#0d0887"
             ],
             [
              0.1111111111111111,
              "#46039f"
             ],
             [
              0.2222222222222222,
              "#7201a8"
             ],
             [
              0.3333333333333333,
              "#9c179e"
             ],
             [
              0.4444444444444444,
              "#bd3786"
             ],
             [
              0.5555555555555556,
              "#d8576b"
             ],
             [
              0.6666666666666666,
              "#ed7953"
             ],
             [
              0.7777777777777778,
              "#fb9f3a"
             ],
             [
              0.8888888888888888,
              "#fdca26"
             ],
             [
              1,
              "#f0f921"
             ]
            ],
            "type": "surface"
           }
          ],
          "table": [
           {
            "cells": {
             "fill": {
              "color": "#EBF0F8"
             },
             "line": {
              "color": "white"
             }
            },
            "header": {
             "fill": {
              "color": "#C8D4E3"
             },
             "line": {
              "color": "white"
             }
            },
            "type": "table"
           }
          ]
         },
         "layout": {
          "annotationdefaults": {
           "arrowcolor": "#2a3f5f",
           "arrowhead": 0,
           "arrowwidth": 1
          },
          "autotypenumbers": "strict",
          "coloraxis": {
           "colorbar": {
            "outlinewidth": 0,
            "ticks": ""
           }
          },
          "colorscale": {
           "diverging": [
            [
             0,
             "#8e0152"
            ],
            [
             0.1,
             "#c51b7d"
            ],
            [
             0.2,
             "#de77ae"
            ],
            [
             0.3,
             "#f1b6da"
            ],
            [
             0.4,
             "#fde0ef"
            ],
            [
             0.5,
             "#f7f7f7"
            ],
            [
             0.6,
             "#e6f5d0"
            ],
            [
             0.7,
             "#b8e186"
            ],
            [
             0.8,
             "#7fbc41"
            ],
            [
             0.9,
             "#4d9221"
            ],
            [
             1,
             "#276419"
            ]
           ],
           "sequential": [
            [
             0,
             "#0d0887"
            ],
            [
             0.1111111111111111,
             "#46039f"
            ],
            [
             0.2222222222222222,
             "#7201a8"
            ],
            [
             0.3333333333333333,
             "#9c179e"
            ],
            [
             0.4444444444444444,
             "#bd3786"
            ],
            [
             0.5555555555555556,
             "#d8576b"
            ],
            [
             0.6666666666666666,
             "#ed7953"
            ],
            [
             0.7777777777777778,
             "#fb9f3a"
            ],
            [
             0.8888888888888888,
             "#fdca26"
            ],
            [
             1,
             "#f0f921"
            ]
           ],
           "sequentialminus": [
            [
             0,
             "#0d0887"
            ],
            [
             0.1111111111111111,
             "#46039f"
            ],
            [
             0.2222222222222222,
             "#7201a8"
            ],
            [
             0.3333333333333333,
             "#9c179e"
            ],
            [
             0.4444444444444444,
             "#bd3786"
            ],
            [
             0.5555555555555556,
             "#d8576b"
            ],
            [
             0.6666666666666666,
             "#ed7953"
            ],
            [
             0.7777777777777778,
             "#fb9f3a"
            ],
            [
             0.8888888888888888,
             "#fdca26"
            ],
            [
             1,
             "#f0f921"
            ]
           ]
          },
          "colorway": [
           "#636efa",
           "#EF553B",
           "#00cc96",
           "#ab63fa",
           "#FFA15A",
           "#19d3f3",
           "#FF6692",
           "#B6E880",
           "#FF97FF",
           "#FECB52"
          ],
          "font": {
           "color": "#2a3f5f"
          },
          "geo": {
           "bgcolor": "white",
           "lakecolor": "white",
           "landcolor": "white",
           "showlakes": true,
           "showland": true,
           "subunitcolor": "#C8D4E3"
          },
          "hoverlabel": {
           "align": "left"
          },
          "hovermode": "closest",
          "mapbox": {
           "style": "light"
          },
          "paper_bgcolor": "white",
          "plot_bgcolor": "white",
          "polar": {
           "angularaxis": {
            "gridcolor": "#EBF0F8",
            "linecolor": "#EBF0F8",
            "ticks": ""
           },
           "bgcolor": "white",
           "radialaxis": {
            "gridcolor": "#EBF0F8",
            "linecolor": "#EBF0F8",
            "ticks": ""
           }
          },
          "scene": {
           "xaxis": {
            "backgroundcolor": "white",
            "gridcolor": "#DFE8F3",
            "gridwidth": 2,
            "linecolor": "#EBF0F8",
            "showbackground": true,
            "ticks": "",
            "zerolinecolor": "#EBF0F8"
           },
           "yaxis": {
            "backgroundcolor": "white",
            "gridcolor": "#DFE8F3",
            "gridwidth": 2,
            "linecolor": "#EBF0F8",
            "showbackground": true,
            "ticks": "",
            "zerolinecolor": "#EBF0F8"
           },
           "zaxis": {
            "backgroundcolor": "white",
            "gridcolor": "#DFE8F3",
            "gridwidth": 2,
            "linecolor": "#EBF0F8",
            "showbackground": true,
            "ticks": "",
            "zerolinecolor": "#EBF0F8"
           }
          },
          "shapedefaults": {
           "line": {
            "color": "#2a3f5f"
           }
          },
          "ternary": {
           "aaxis": {
            "gridcolor": "#DFE8F3",
            "linecolor": "#A2B1C6",
            "ticks": ""
           },
           "baxis": {
            "gridcolor": "#DFE8F3",
            "linecolor": "#A2B1C6",
            "ticks": ""
           },
           "bgcolor": "white",
           "caxis": {
            "gridcolor": "#DFE8F3",
            "linecolor": "#A2B1C6",
            "ticks": ""
           }
          },
          "title": {
           "x": 0.05
          },
          "xaxis": {
           "automargin": true,
           "gridcolor": "#EBF0F8",
           "linecolor": "#EBF0F8",
           "ticks": "",
           "title": {
            "standoff": 15
           },
           "zerolinecolor": "#EBF0F8",
           "zerolinewidth": 2
          },
          "yaxis": {
           "automargin": true,
           "gridcolor": "#EBF0F8",
           "linecolor": "#EBF0F8",
           "ticks": "",
           "title": {
            "standoff": 15
           },
           "zerolinecolor": "#EBF0F8",
           "zerolinewidth": 2
          }
         }
        },
        "title": {
         "text": "Сравнение точности моделей с разными RNG"
        },
        "xaxis": {
         "title": {
          "text": "Эпоха"
         }
        },
        "yaxis": {
         "title": {
          "text": "Точность (%)"
         }
        }
       }
      }
     },
     "metadata": {},
     "output_type": "display_data"
    }
   ],
   "source": [
    "show_graph(\"nes/iris-nes\")"
   ]
  },
  {
   "cell_type": "code",
   "execution_count": 24,
   "id": "332fe513",
   "metadata": {},
   "outputs": [
    {
     "name": "stdout",
     "output_type": "stream",
     "text": [
      "['bench-xorshift-modulo-temp.txt', 'bench-xorshift-modulo-temp-no-mul.txt', 'bench-xorshift-modulo.txt', 'plot-analyze.ipynb', 'bench-xorshift-low-bits.txt', 'bench-xorshift-glibc.txt', 'xorshift32-improved-seed-100.old', 'xorshift32-improved-no-rs.txt', 'xorshift32-improved-no-rs-no-seed.txt', 'random-bench.sh', 'xorshift32-improved-no-seed.txt', 'improved-rng-dyn-seed.txt', 'bench-xorshift-low-bits-no-mul.txt']\n"
     ]
    },
    {
     "data": {
      "image/png": "[encoded data removed]",
      "text/plain": [
       "<Figure size 900x500 with 1 Axes>"
      ]
     },
     "metadata": {},
     "output_type": "display_data"
    }
   ],
   "source": [
    "import matplotlib.pyplot as plt\n",
    "from os import walk\n",
    "\n",
    "filenames = next(walk(\".\"), (None, None, []))[2]\n",
    "print(filenames)\n",
    "filenames = [file.split(\".\")[0] for file in filenames if file.split(\".\")[1] == \"txt\"]\n",
    "\n",
    "# Эпохи\n",
    "# epochs = list(range(1, 11))\n",
    "epochs = list(range(1, 10))\n",
    "\n",
    "data = []\n",
    "\n",
    "for file in filenames:\n",
    "    if file.startswith('bench'): data.append(parse_accuracies(file))\n",
    "\n",
    "# Данные моделей\n",
    "# data.append(parse_accuracies(\"improved-rng-dyn-seed\"))\n",
    "# data.append(parse_accuracies(\"xorshift32-improved-no-seed\"))\n",
    "\n",
    "# glibc_test = [91.71, 92.77, 93.38, 93.60, 93.88, 94.71, 94.32, 93.16, 93.71, 94.99]\n",
    "# glibc_train = [93.64, 94.85, 95.34, 95.74, 96.15, 97.12, 96.78, 95.97, 96.47, 97.31]\n",
    "\n",
    "# x16_test = [90.65, 92.99, 91.99, 92.71, 94.05, 92.82, 94.71, 94.66, 94.60, 93.77]\n",
    "# x16_train = [93.33, 95.06, 94.32, 95.32, 96.36, 95.58, 96.94, 97.12, 97.07, 96.57]\n",
    "\n",
    "# x32_test = [92.15, 93.32, 92.77, 93.60, 91.82, 93.32, 93.38, 94.55, 92.10, 93.27]\n",
    "# x32_train = [93.96, 94.82, 95.32, 95.95, 94.35, 96.00, 95.84, 97.25, 94.64, 95.79]\n",
    "\n",
    "# low_test = [91.65, 92.38, 93.54, 92.43, 94.05, 94.10, 91.93, 93.16, 93.43, 94.44]\n",
    "# low_train = [93.41, 94.69, 95.34, 95.37, 96.49, 96.83, 94.56, 95.92, 96.10, 97.10]\n",
    "\n",
    "plt.figure(figsize=(9, 5))\n",
    "\n",
    "for d in data:\n",
    "    # if (d[0] != \"bench-xorshift-rs-temp\" and d[0] != \"bench-xorshift-rs\"):\n",
    "    if d[0].endswith('glibc'):\n",
    "        plt.plot(epochs, d[1][:-1], label='glibc, тест')\n",
    "    elif d[0][15:] == 'modulo-temp':\n",
    "        plt.plot(epochs, d[1][:-1], label='new-xorshift-temp, тест', linestyle='--')\n",
    "    elif d[0][15:] == 'low-bits-no-mul':\n",
    "        plt.plot(epochs, d[1][:-1], label='new-xorshift-no-temp, тест', linestyle='--')\n",
    "    # plt.plot(epochs, d[2], linestyle='--', label=d[0] + ', тренировка')\n",
    "\n",
    "# plt.plot(epochs, glibc_test, label='glibc, тест', marker='o')\n",
    "# plt.plot(epochs, glibc_train, linestyle='--', label='glibc, тренировка', marker='o')\n",
    "\n",
    "# plt.plot(epochs, x16_test, label='xorshift16, тест', marker='^')\n",
    "# plt.plot(epochs, x16_train, linestyle='--', label='xorshift16, тренировка', marker='^')\n",
    "\n",
    "# plt.plot(epochs, x32_test, label='xorshift32, тест', marker='s')\n",
    "# plt.plot(epochs, x32_train, linestyle='--', label='xorshift32, тренировка', marker='s')\n",
    "\n",
    "# plt.plot(epochs, low_test, label='xorshift32-lowbytes, тест', marker='d')\n",
    "# plt.plot(epochs, low_train, linestyle='--', label='xorshift32-lowbytes, тренировка', marker='d')\n",
    "\n",
    "plt.xlabel('Epoch')\n",
    "plt.ylabel('Accuracy (%)')\n",
    "# plt.title('Сравнение точности моделей с разными RNG')\n",
    "plt.legend(loc='lower left', fontsize='small')\n",
    "plt.grid(True)\n",
    "plt.tight_layout()\n",
    "plt.show()"
   ]
  },
  {
   "cell_type": "code",
   "execution_count": 6,
   "id": "7a1cbd88",
   "metadata": {},
   "outputs": [],
   "source": [
    "# import plotly.graph_objects as go\n",
    "# from os import walk\n",
    "\n",
    "# filenames = next(walk(\".\"), (None, None, []))[2]\n",
    "# print(filenames)\n",
    "# filenames = [file.split(\".\")[0] for file in filenames if file.split(\".\")[1] == \"txt\"]\n",
    "\n",
    "# # Эпохи\n",
    "# epochs = list(range(1, 11))\n",
    "\n",
    "# data = []\n",
    "\n",
    "# for file in filenames:\n",
    "#     if file.startswith('bench'):\n",
    "#         data.append(parse_accuracies(file))\n",
    "\n",
    "# # Данные моделей\n",
    "# # data.append(parse_accuracies(\"improved-rng-dyn-seed\"))\n",
    "# # data.append(parse_accuracies(\"xorshift32-improved-no-seed\"))\n",
    "\n",
    "# glibc_test  = [91.71, 92.77, 93.38, 93.60, 93.88, 94.71, 94.32, 93.16, 93.71, 94.99]\n",
    "# glibc_train = [93.64, 94.85, 95.34, 95.74, 96.15, 97.12, 96.78, 95.97, 96.47, 97.31]\n",
    "\n",
    "# x16_test    = [90.65, 92.99, 91.99, 92.71, 94.05, 92.82, 94.71, 94.66, 94.60, 93.77]\n",
    "# x16_train   = [93.33, 95.06, 94.32, 95.32, 96.36, 95.58, 96.94, 97.12, 97.07, 96.57]\n",
    "\n",
    "# x32_test    = [92.15, 93.32, 92.77, 93.60, 91.82, 93.32, 93.38, 94.55, 92.10, 93.27]\n",
    "# x32_train   = [93.96, 94.82, 95.32, 95.95, 94.35, 96.00, 95.84, 97.25, 94.64, 95.79]\n",
    "\n",
    "# low_test    = [91.65, 92.38, 93.54, 92.43, 94.05, 94.10, 91.93, 93.16, 93.43, 94.44]\n",
    "# low_train   = [93.41, 94.69, 95.34, 95.37, 96.49, 96.83, 94.56, 95.92, 96.10, 97.10]\n",
    "\n",
    "# # create figure\n",
    "# fig = go.Figure()\n",
    "\n",
    "# for d in data:\n",
    "#     # if (d[0] != \"bench-xorshift-rs-temp\" and d[0] != \"bench-xorshift-rs\"):\n",
    "#     fig.add_trace(go.Scatter(\n",
    "#         x=epochs, y=d[1],\n",
    "#         mode='lines',\n",
    "#         name=f\"{d[0]}, тест\"\n",
    "#     ))\n",
    "#     # to also plot training curves, uncomment:\n",
    "#     # fig.add_trace(go.Scatter(\n",
    "#     #     x=epochs, y=d[2],\n",
    "#     #     mode='lines',\n",
    "#     #     line=dict(dash='dash'),\n",
    "#     #     name=f\"{d[0]}, тренировка\"\n",
    "#     # ))\n",
    "\n",
    "# # fig.add_trace(go.Scatter(\n",
    "# #     x=epochs, y=glibc_test,\n",
    "# #     mode='lines+markers',\n",
    "# #     name='glibc, тест',\n",
    "# # ))\n",
    "# # fig.add_trace(go.Scatter(\n",
    "# #     x=epochs, y=glibc_train,\n",
    "# #     mode='lines+markers',\n",
    "# #     line=dict(dash='dash'),\n",
    "# #     name='glibc, тренировка',\n",
    "# # ))\n",
    "\n",
    "# # Uncomment any of these to add & toggle additional curves:\n",
    "# # fig.add_trace(go.Scatter(x=epochs, y=x16_test, mode='lines+markers', name='xorshift16, тест'))\n",
    "# # fig.add_trace(go.Scatter(x=epochs, y=x16_train, mode='lines+markers', line=dict(dash='dash'), name='xorshift16, тренировка'))\n",
    "# # fig.add_trace(go.Scatter(x=epochs, y=x32_test, mode='lines+markers', name='xorshift32, тест'))\n",
    "# # fig.add_trace(go.Scatter(x=epochs, y=x32_train, mode='lines+markers', line=dict(dash='dash'), name='xorshift32, тренировка'))\n",
    "# # fig.add_trace(go.Scatter(x=epochs, y=low_test, mode='lines+markers', name='xorshift32-lowbytes, тест'))\n",
    "# # fig.add_trace(go.Scatter(x=epochs, y=low_train, mode='lines+markers', line=dict(dash='dash'), name='xorshift32-lowbytes, тренировка'))\n",
    "\n",
    "# # layout\n",
    "# fig.update_layout(\n",
    "#     title=\"Сравнение точности моделей с разными RNG\",\n",
    "#     xaxis_title=\"Эпоха\",\n",
    "#     yaxis_title=\"Точность (%)\",\n",
    "#     # legend=dict(orientation=\"v\", x=0, y=1),\n",
    "#     template=\"plotly_white\"\n",
    "# )\n",
    "\n",
    "# fig.show()\n"
   ]
  }
 ],
 "metadata": {
  "kernelspec": {
   "display_name": "Python 3",
   "language": "python",
   "name": "python3"
  },
  "language_info": {
   "codemirror_mode": {
    "name": "ipython",
    "version": 3
   },
   "file_extension": ".py",
   "mimetype": "text/x-python",
   "name": "python",
   "nbconvert_exporter": "python",
   "pygments_lexer": "ipython3",
   "version": "3.12.3"
  }
 },
 "nbformat": 4,
 "nbformat_minor": 5
}
